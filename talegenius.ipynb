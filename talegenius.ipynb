{
  "nbformat": 4,
  "nbformat_minor": 0,
  "metadata": {
    "colab": {
      "provenance": [],
      "gpuType": "T4",
      "include_colab_link": true
    },
    "kernelspec": {
      "name": "python3",
      "display_name": "Python 3"
    },
    "language_info": {
      "name": "python"
    }
  },
  "cells": [
    {
      "cell_type": "markdown",
      "metadata": {
        "id": "view-in-github",
        "colab_type": "text"
      },
      "source": [
        "<a href=\"https://colab.research.google.com/github/Monterazo/Ai-Videomaker/blob/main/talegenius.ipynb\" target=\"_parent\"><img src=\"https://colab.research.google.com/assets/colab-badge.svg\" alt=\"Open In Colab\"/></a>"
      ]
    },
    {
      "cell_type": "markdown",
      "source": [
        "# Creating tales with Artificial Inteligence\n"
      ],
      "metadata": {
        "id": "UXa9IwkeokWH"
      }
    },
    {
      "cell_type": "markdown",
      "source": [
        ">[Creating tales with Artificial Inteligence](#scrollTo=UXa9IwkeokWH)\n",
        "\n",
        ">[Setup](#scrollTo=ep0A2pLDnoWK)\n",
        "\n",
        ">[Authenticate](#scrollTo=8BCZiwH6cLnv)\n",
        "\n",
        ">[Run Script](#scrollTo=v35GZfs_QyUI)\n",
        "\n",
        ">[Run images](#scrollTo=Ax6xbVZOpnaV)\n",
        "\n",
        ">[Run Audio](#scrollTo=GQ80oLjXcdGP)\n",
        "\n"
      ],
      "metadata": {
        "colab_type": "toc",
        "id": "0rJP51rc6p3r"
      }
    },
    {
      "cell_type": "markdown",
      "source": [
        "# Setup\n",
        "\n",
        "To run this notebook, you’ll need to create a [Replicate](https://replicate.com) account and install the Replicate python client."
      ],
      "metadata": {
        "id": "ep0A2pLDnoWK"
      }
    },
    {
      "cell_type": "code",
      "source": [
        "# install replicate client\n",
        "!pip install replicate\n",
        "!pip install -q -U google-generativeai\n"
      ],
      "metadata": {
        "colab": {
          "base_uri": "https://localhost:8080/"
        },
        "id": "JLTW6u8LnkDg",
        "outputId": "5a756022-9965-4afd-d066-50301b972c3b"
      },
      "execution_count": null,
      "outputs": [
        {
          "output_type": "stream",
          "name": "stdout",
          "text": [
            "Requirement already satisfied: replicate in /usr/local/lib/python3.10/dist-packages (0.24.0)\n",
            "Requirement already satisfied: httpx<1,>=0.21.0 in /usr/local/lib/python3.10/dist-packages (from replicate) (0.27.0)\n",
            "Requirement already satisfied: packaging in /usr/local/lib/python3.10/dist-packages (from replicate) (23.2)\n",
            "Requirement already satisfied: pydantic>1 in /usr/local/lib/python3.10/dist-packages (from replicate) (2.6.1)\n",
            "Requirement already satisfied: typing-extensions>=4.5.0 in /usr/local/lib/python3.10/dist-packages (from replicate) (4.9.0)\n",
            "Requirement already satisfied: anyio in /usr/local/lib/python3.10/dist-packages (from httpx<1,>=0.21.0->replicate) (3.7.1)\n",
            "Requirement already satisfied: certifi in /usr/local/lib/python3.10/dist-packages (from httpx<1,>=0.21.0->replicate) (2024.2.2)\n",
            "Requirement already satisfied: httpcore==1.* in /usr/local/lib/python3.10/dist-packages (from httpx<1,>=0.21.0->replicate) (1.0.4)\n",
            "Requirement already satisfied: idna in /usr/local/lib/python3.10/dist-packages (from httpx<1,>=0.21.0->replicate) (3.6)\n",
            "Requirement already satisfied: sniffio in /usr/local/lib/python3.10/dist-packages (from httpx<1,>=0.21.0->replicate) (1.3.0)\n",
            "Requirement already satisfied: h11<0.15,>=0.13 in /usr/local/lib/python3.10/dist-packages (from httpcore==1.*->httpx<1,>=0.21.0->replicate) (0.14.0)\n",
            "Requirement already satisfied: annotated-types>=0.4.0 in /usr/local/lib/python3.10/dist-packages (from pydantic>1->replicate) (0.6.0)\n",
            "Requirement already satisfied: pydantic-core==2.16.2 in /usr/local/lib/python3.10/dist-packages (from pydantic>1->replicate) (2.16.2)\n",
            "Requirement already satisfied: exceptiongroup in /usr/local/lib/python3.10/dist-packages (from anyio->httpx<1,>=0.21.0->replicate) (1.2.0)\n"
          ]
        }
      ]
    },
    {
      "cell_type": "code",
      "source": [
        "#import necessary packages\n",
        "import google.generativeai as genai\n",
        "import pathlib\n",
        "import textwrap\n",
        "\n",
        "import google.generativeai as genai\n",
        "\n",
        "from IPython.display import display\n",
        "from IPython.display import Markdown\n",
        "from google.colab import userdata\n",
        "\n",
        "\n",
        "def to_markdown(text):\n",
        "  text = text.replace('•', '  *')\n",
        "  return Markdown(textwrap.indent(text, '> ', predicate=lambda _: True))"
      ],
      "metadata": {
        "id": "kmMLVgB6TzHK"
      },
      "execution_count": null,
      "outputs": []
    },
    {
      "cell_type": "markdown",
      "source": [
        "# Authenticate\n",
        "Before running any Python scripts that use the API, you need to set your Replicate API and Gemini tokens in your environment.\n",
        "\n",
        "\n"
      ],
      "metadata": {
        "id": "8BCZiwH6cLnv"
      }
    },
    {
      "cell_type": "code",
      "source": [
        "from getpass import getpass\n",
        "import os\n",
        "import google.generativeai as genai\n",
        "\n",
        "# Replicate\n",
        "# get a token: https://replicate.com/account\n",
        "REPLICATE_API_TOKEN = getpass(\"Replicate Key:\")\n",
        "os.environ[\"REPLICATE_API_TOKEN\"] = REPLICATE_API_TOKEN\n",
        "\n",
        "#Google\n",
        "# get a token: https://ai.google.dev/\n",
        "GOOGLE_API_KEY=getpass('Gemini Key:')\n",
        "\n",
        "genai.configure(api_key=GOOGLE_API_KEY)\n",
        "os.environ[\"GOOGLE_API_KEY\"] = GOOGLE_API_KEY\n",
        "\n"
      ],
      "metadata": {
        "colab": {
          "base_uri": "https://localhost:8080/"
        },
        "id": "5ZTkrAUhoIJE",
        "outputId": "f41bd632-1bf1-4be7-f6bb-1d88ec5d39b4"
      },
      "execution_count": null,
      "outputs": [
        {
          "name": "stdout",
          "output_type": "stream",
          "text": [
            "Replicate Key:··········\n",
            "Gemini Key:··········\n"
          ]
        }
      ]
    },
    {
      "cell_type": "markdown",
      "source": [
        "# Run Script\n",
        "The following code runs Google-Gemini-1.0-pro to generate the script for our story.\n"
      ],
      "metadata": {
        "id": "v35GZfs_QyUI"
      }
    },
    {
      "cell_type": "code",
      "source": [
        "import google.generativeai as genai\n",
        "\n",
        "model = genai.GenerativeModel('gemini-pro')\n",
        "response = model.generate_content(input('Enter the theme: ')+ \"is the theme of my three part . Each part must have a short Narration and a Prompt to generate an image about the event narrated\")\n",
        "\n",
        "to_markdown(response.text)\n",
        "\n",
        "\n"
      ],
      "metadata": {
        "colab": {
          "base_uri": "https://localhost:8080/",
          "height": 492
        },
        "id": "w9tUU0J6RQwb",
        "outputId": "e28cbdb1-0293-41e5-aca7-aaccb8b9b99e"
      },
      "execution_count": null,
      "outputs": [
        {
          "name": "stdout",
          "output_type": "stream",
          "text": [
            "Enter the theme: Red Velvet cake factory\n"
          ]
        },
        {
          "output_type": "execute_result",
          "data": {
            "text/plain": [
              "<IPython.core.display.Markdown object>"
            ],
            "text/markdown": "> **Part 1: The Enchanted Oven**\n> \n> *Narration:* In the heart of a bustling city, nestled amidst the sweet scents of baked goods, stood a remarkable factory known as the Red Velvet Cake Factory. This factory was no ordinary establishment; it possessed a magical charm that could transport anyone who stepped inside to a world where imagination and deliciousness intertwined.\n> \n> *Prompt:* Create a vibrant and whimsical digital painting that captures the essence of the Red Velvet Cake Factory. Let the vibrant red and white hues dance across the canvas, while golden lights illuminate the factory's majestic facade. In the background, hint at the delectable treats that await inside, such as towering red velvet cakes adorned with intricate swirls of cream cheese frosting.\n> \n> **Part 2: The Secret Recipe**\n> \n> *Narration:* Within the factory's walls, a team of dedicated bakers embarked on a daily quest to create the most delectable red velvet cakes the world had ever tasted. They held the secret recipe close to their hearts, passed down from generations of master bakers. It was a recipe that whispered tales of love, laughter, and the magic of baking.\n> \n> *Prompt:* Craft a mesmerizing digital painting that offers a glimpse into the inner sanctum of the Red Velvet Cake Factory's kitchen. Show the bakers with their flour-dusted aprons and wide smiles, carefully measuring ingredients and whisking batter. Let the warmth of the oven's glow bathe the scene in a golden light, and hint at the heavenly aroma that fills the air.\n> \n> **Part 3: The Sweetest Symphony**\n> \n> *Narration:* As the final cakes emerged from the oven, the factory transformed into a symphony of sweet melodies. The clinking of mixing bowls, the gentle hum of the machinery, and the laughter of the bakers blended together, creating an enchanting harmony that echoed through the corridors. It was a symphony that celebrated the joy of baking and the love that was poured into each and every red velvet cake.\n> \n> *Prompt:* Design an enchanting digital painting that captures the harmonious spirit of the Red Velvet Cake Factory. Depict the bakers dancing and singing amidst towering stacks of red velvet cakes, their faces radiant with joy. Let the music notes swirl around them like confetti, adding a touch of whimsy to the scene. In the background, hint at the eager customers waiting outside, their eyes sparkling with anticipation for a taste of the factory's legendary treats."
          },
          "metadata": {},
          "execution_count": 21
        }
      ]
    },
    {
      "cell_type": "code",
      "source": [
        "#Generate Image 1\n",
        "\n",
        "Image_1 = model.generate_content(\"I have an story and I want only the Image Prompt for the part 1 with, the story is:\" + response.text)\n",
        "Image_2 = model.generate_content(\"I have an story and I want only the Image Prompt for the part 2 with, the story is:\" + response.text)\n",
        "Image_3 = model.generate_content(\"I have an story and I want only the Image Prompt for the part 3 with, the story is:\" + response.text)\n",
        "\n",
        "to_markdown(Image_1.text)"
      ],
      "metadata": {
        "colab": {
          "base_uri": "https://localhost:8080/",
          "height": 138
        },
        "id": "Q6O6YbZglX8m",
        "outputId": "6ccb0849-4f51-4010-9ec5-4550a9ea953c"
      },
      "execution_count": null,
      "outputs": [
        {
          "output_type": "execute_result",
          "data": {
            "text/plain": [
              "<IPython.core.display.Markdown object>"
            ],
            "text/markdown": "> **Image Prompt for Part 1: The Enchanted Oven**\n> \n> Create a vibrant and whimsical digital painting that captures the essence of the Red Velvet Cake Factory. In the heart of a bustling city, a remarkable factory stands amidst the sweet scents of baked goods. Its red and white facade is illuminated by golden lights, creating a magical charm. Towering red velvet cakes adorned with intricate swirls of cream cheese frosting hint at the delectable treats that await inside. Let the vibrant hues and golden lights dance across the canvas, inviting viewers into a world where imagination and deliciousness intertwine."
          },
          "metadata": {},
          "execution_count": 22
        }
      ]
    },
    {
      "cell_type": "markdown",
      "source": [
        "# Run images\n",
        "The following example runs [stability-ai/stable-diffusion](https://replicate.com/stability-ai/stable-diffusion) and [stability-ai/stable-video-diffusion](https://replicate.com/stability-ai/stable-video-diffusion?input=python):"
      ],
      "metadata": {
        "id": "Ax6xbVZOpnaV"
      }
    },
    {
      "cell_type": "code",
      "source": [],
      "metadata": {
        "id": "BCeCf9IWkBFT"
      },
      "execution_count": null,
      "outputs": []
    },
    {
      "cell_type": "code",
      "source": [
        "import replicate\n",
        "\n",
        "output = replicate.run(\n",
        "  \"stability-ai/sdxl:39ed52f2a78e934b3ba6e2a89f5b1c712de7dfea535525255b1aa35c5565e08b\",\n",
        "  input={\"prompt\": response.text}\n",
        ")\n",
        "\n",
        "output\n",
        "\n",
        "from IPython.display import Image\n",
        "Image(url=output[0])"
      ],
      "metadata": {
        "colab": {
          "base_uri": "https://localhost:8080/",
          "height": 1000
        },
        "id": "eQCcYU6_nXub",
        "outputId": "879eced3-cbcb-4132-996c-fdf5de0d6793"
      },
      "execution_count": null,
      "outputs": [
        {
          "output_type": "execute_result",
          "data": {
            "text/html": [
              "<img src=\"https://replicate.delivery/pbxt/hWDhS4UqgQ7GF12mYsWelzqKepfzutOSkA5Os4RoY5mVRA1kA/out-0.png\"/>"
            ],
            "text/plain": [
              "<IPython.core.display.Image object>"
            ]
          },
          "metadata": {},
          "execution_count": 23
        }
      ]
    },
    {
      "cell_type": "code",
      "source": [
        "from urllib.request import urlretrieve\n",
        "\n",
        "model = replicate.models.get(\"stability-ai/stable-video-diffusion\")\n",
        "version = model.versions.get(\"3f0457e4619daac51203dedb472816fd4af51f3149fa7a9e0b5ffcf1b8172438\")\n",
        "\n",
        "prediction = replicate.predictions.create(\n",
        "    version=version,\n",
        "    input={\n",
        "      \"cond_aug\": 0.02,\n",
        "      \"decoding_t\": 7,\n",
        "      \"input_image\": output[0],\n",
        "      \"video_length\": \"25_frames_with_svd_xt\",\n",
        "      \"sizing_strategy\": \"maintain_aspect_ratio\",\n",
        "      \"motion_bucket_id\": 127,\n",
        "      \"frames_per_second\": 5\n",
        "    })\n",
        "prediction.wait()\n",
        "\n",
        "urlretrieve(prediction.output, \"/tmp/out.mp4\")\n",
        "\n",
        "from IPython.display import Video\n",
        "\n",
        "Video(prediction.output)"
      ],
      "metadata": {
        "colab": {
          "base_uri": "https://localhost:8080/",
          "height": 597
        },
        "id": "l2sNBQg-pywR",
        "outputId": "0792d7ab-b5a1-4dd5-cb9f-c0880bad8e0a"
      },
      "execution_count": null,
      "outputs": [
        {
          "output_type": "execute_result",
          "data": {
            "text/plain": [
              "<IPython.core.display.Video object>"
            ],
            "text/html": [
              "<video src=\"https://replicate.delivery/pbxt/5cCN1KdIVLKMNF7oMm3Go116k6XYafcqi7KnXeXQnK23JgaSA/000028.mp4\" controls  >\n",
              "      Your browser does not support the <code>video</code> element.\n",
              "    </video>"
            ]
          },
          "metadata": {},
          "execution_count": 24
        }
      ]
    },
    {
      "cell_type": "markdown",
      "source": [
        "#Run Audio\n",
        "API to Run the narration audio"
      ],
      "metadata": {
        "id": "GQ80oLjXcdGP"
      }
    },
    {
      "cell_type": "code",
      "source": [],
      "metadata": {
        "id": "61dDQwaAcnI-"
      },
      "execution_count": null,
      "outputs": []
    },
    {
      "cell_type": "markdown",
      "source": [
        "#Compile Video\n"
      ],
      "metadata": {
        "id": "5_Ka70_gcnYm"
      }
    }
  ]
}